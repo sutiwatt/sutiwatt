{
 "cells": [
  {
   "cell_type": "code",
   "execution_count": null,
   "metadata": {},
   "outputs": [],
   "source": [
    "from selenium import webdriver\n",
    "from selenium.webdriver.common.by import By\n",
    "from selenium.webdriver.support import expected_conditions as EC\n",
    "from selenium.webdriver.support.ui import WebDriverWait\n",
    "\n",
    "class AmazonScraper:\n",
    "    def __init__(self):\n",
    "        self.driver = webdriver.Chrome()  # Replace with the path to your ChromeDriver executable\n",
    "\n",
    "    def scrape_reviews(self, product_url):\n",
    "        self.driver.get(product_url)\n",
    "\n",
    "        # Click the \"See All Reviews\" button\n",
    "        see_all_button = self.driver.find_element(By.ID, 'seeAllReviewsHref')\n",
    "        see_all_button.click()\n",
    "\n",
    "        # Wait for the reviews to load\n",
    "        WebDriverWait(self.driver, 10).until(EC.presence_of_element_located((By.CLASS_NAME, 'review-views')))\n",
    "\n",
    "        # Get the review elements\n",
    "        review_elements = self.driver.find_elements(By.CSS_SELECTOR, '.review-views .review')\n",
    "\n",
    "        # Extract review details\n",
    "        for review in review_elements:\n",
    "            rating_element = review.find_element(By.CSS_SELECTOR, '.a-icon-alt')\n",
    "            review_text_element = review.find_element(By.CSS_SELECTOR, '.review-text')\n",
    "            \n",
    "            rating = rating_element.get_attribute('innerHTML')\n",
    "            review_text = review_text_element.get_attribute('innerHTML')\n",
    "\n",
    "            print(f\"Rating: {rating}\")\n",
    "            print(f\"Review: {review_text}\")\n",
    "            print()\n",
    "\n",
    "    def close(self):\n",
    "        self.driver.quit()\n",
    "\n",
    "# Usage example\n",
    "scraper = AmazonScraper()\n",
    "scraper.scrape_reviews('https://www.amazon.com/product-url')  # Replace with the actual product URL\n",
    "scraper.close()\n"
   ]
  }
 ],
 "metadata": {
  "language_info": {
   "name": "python"
  },
  "orig_nbformat": 4
 },
 "nbformat": 4,
 "nbformat_minor": 2
}
